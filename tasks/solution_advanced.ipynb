{
 "cells": [
  {
   "cell_type": "code",
   "execution_count": null,
   "metadata": {},
   "outputs": [
    {
     "name": "stdout",
     "output_type": "stream",
     "text": [
      "Nimm Streichhölzer Weg Spiel startet!\n"
     ]
    },
    {
     "name": "stdin",
     "output_type": "stream",
     "text": [
      "Wieviele Streichhölzer gibt es? [Zahl zwischen 10 und 100] 11\n"
     ]
    },
    {
     "name": "stdout",
     "output_type": "stream",
     "text": [
      "Es gibt 11 Streichhölzer.\n",
      "Spieler 2 ist dran.\n",
      "Wieviele Streichhölzer möchtest du nehmen? (1, 2 oder 3)\n"
     ]
    },
    {
     "name": "stdin",
     "output_type": "stream",
     "text": [
      " 3\n"
     ]
    },
    {
     "name": "stdout",
     "output_type": "stream",
     "text": [
      "Aktuell liegen noch 8 Streichhölzer.\n",
      "Spieler 1 ist dran.\n",
      "Wieviele Streichhölzer möchtest du nehmen? (1, 2 oder 3)\n"
     ]
    },
    {
     "name": "stdin",
     "output_type": "stream",
     "text": [
      " 1\n"
     ]
    },
    {
     "name": "stdout",
     "output_type": "stream",
     "text": [
      "Aktuell liegen noch 7 Streichhölzer.\n",
      "Spieler 2 ist dran.\n",
      "Wieviele Streichhölzer möchtest du nehmen? (1, 2 oder 3)\n"
     ]
    },
    {
     "name": "stdin",
     "output_type": "stream",
     "text": [
      " 2\n"
     ]
    },
    {
     "name": "stdout",
     "output_type": "stream",
     "text": [
      "Aktuell liegen noch 5 Streichhölzer.\n",
      "Spieler 1 ist dran.\n",
      "Wieviele Streichhölzer möchtest du nehmen? (1, 2 oder 3)\n"
     ]
    },
    {
     "name": "stdin",
     "output_type": "stream",
     "text": [
      " 3\n"
     ]
    },
    {
     "name": "stdout",
     "output_type": "stream",
     "text": [
      "Aktuell liegen noch 2 Streichhölzer.\n",
      "Spieler 2 ist dran.\n",
      "Wieviele Streichhölzer möchtest du nehmen? (1, 2 oder 3)\n"
     ]
    }
   ],
   "source": [
    "def ask_player():\n",
    "    print(\"Wieviele Streichhölzer möchtest du nehmen? (1, 2 oder 3)\")\n",
    "    matchesTakenStr = input()\n",
    "    matchesTakenInt = int(matchesTakenStr)\n",
    "    return matchesTakenInt\n",
    "\n",
    "print(\"Nimm Streichhölzer Weg Spiel startet!\")\n",
    "\n",
    "num_matches = None\n",
    "while not num_matches:\n",
    "    try:\n",
    "        num_matches = int(input(\"Wieviele Streichhölzer gibt es? [Zahl zwischen 10 und 100]\"))\n",
    "        if not 10 <= num_matches <= 100:\n",
    "            raise ValueError\n",
    "    except ValueError as e:\n",
    "        print(f\"Bitte probiere es erneut, es muss eine Zahl zwischen 10 und 100 sein\")\n",
    "        num_matches = None\n",
    "print(f\"Es gibt {num_matches} Streichhölzer.\")\n",
    "\n",
    "player_idx = 1\n",
    "while num_matches >= 1:\n",
    "    player_idx = player_idx % 2 + 1\n",
    "    print(f\"Spieler {player_idx} ist dran.\")\n",
    "    num_matches_taken = ask_player()\n",
    "    num_matches -= num_matches_taken\n",
    "    print(f\"Aktuell liegen noch {num_matches} Streichhölzer.\")\n",
    "\n",
    "print(f\"Das Spiel ist zu Ende! Spieler {player_idx} hat verloren.\")"
   ]
  },
  {
   "cell_type": "code",
   "execution_count": null,
   "metadata": {},
   "outputs": [],
   "source": []
  },
  {
   "cell_type": "code",
   "execution_count": null,
   "metadata": {},
   "outputs": [],
   "source": []
  }
 ],
 "metadata": {
  "kernelspec": {
   "display_name": "Python 3",
   "language": "python",
   "name": "python3"
  },
  "language_info": {
   "codemirror_mode": {
    "name": "ipython",
    "version": 3
   },
   "file_extension": ".py",
   "mimetype": "text/x-python",
   "name": "python",
   "nbconvert_exporter": "python",
   "pygments_lexer": "ipython3",
   "version": "3.8.2"
  }
 },
 "nbformat": 4,
 "nbformat_minor": 4
}
