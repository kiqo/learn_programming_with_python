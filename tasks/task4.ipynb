{
 "cells": [
  {
   "cell_type": "code",
   "execution_count": null,
   "metadata": {},
   "outputs": [],
   "source": [
    "# Programmierteil 1: Schreibe den Text \"Nimm Streichhölzer Weg Spiel startet\" \n",
    "# und dann \"Wieviele Streichhölzer gibt es?\" auf den Bildschirm\n",
    "print(\"Nimm Streichhölzer Weg Spiel startet!\")\n",
    "print(\"Wieviele Streichhölzer gibt es?\")\n",
    "\n",
    "# Programmierteil 2: Lese einen String mit input() ein und weise ihn einer Variablen mit dem Namen matchesStr zu\n",
    "matchesStr = input()\n",
    "print(\"Es gibt \" + matchesStr + \" Streichhölzer.\")\n",
    "\n",
    "# Programmierteil 3: Konvertiere den Wert der Variable matchesStr in einen Integer und weise diesen Wert der Variable matchesInt zu\n",
    "matchesInt = int(matchesStr)\n",
    "\n",
    "# Programmierteil 4: Schreibe eine while-Schleife, die in der Kondition überprüft ob matchesInt größer als 1 ist. \n",
    "# In der while-Schleife  \n",
    "#     1. Ziehe matchesTakenInt von matchesInt ab und weise das Ergebnis matchesInt zu (matchesTakenInt wird im nächsten Teil 'richtig' gesetzt)\n",
    "#     2. Gib dann die aktuelle Anzahl an matchesInt aus, z.B. \"Aktuell gibt es noch 10 Streichhölzer.\"\n",
    "matchesTakenInt = 1\n",
    "\n",
    "\n"
   ]
  },
  {
   "cell_type": "code",
   "execution_count": null,
   "metadata": {},
   "outputs": [],
   "source": []
  }
 ],
 "metadata": {
  "kernelspec": {
   "display_name": "Python 3",
   "language": "python",
   "name": "python3"
  },
  "language_info": {
   "codemirror_mode": {
    "name": "ipython",
    "version": 3
   },
   "file_extension": ".py",
   "mimetype": "text/x-python",
   "name": "python",
   "nbconvert_exporter": "python",
   "pygments_lexer": "ipython3",
   "version": "3.8.2"
  }
 },
 "nbformat": 4,
 "nbformat_minor": 4
}
