{
 "cells": [
  {
   "cell_type": "code",
   "execution_count": 2,
   "metadata": {},
   "outputs": [
    {
     "name": "stdout",
     "output_type": "stream",
     "text": [
      "Nimm Streichhölzer Weg Spiel startet!\n",
      "Wieviele Streichhölzer gibt es?\n"
     ]
    },
    {
     "name": "stdin",
     "output_type": "stream",
     "text": [
      " 13\n"
     ]
    },
    {
     "name": "stdout",
     "output_type": "stream",
     "text": [
      "Es gibt 13 Streichhölzer.\n",
      "Wieviele Streichhölzer möchtest du nehmen? (1, 2 oder 3)\n"
     ]
    },
    {
     "name": "stdin",
     "output_type": "stream",
     "text": [
      " 3\n"
     ]
    },
    {
     "name": "stdout",
     "output_type": "stream",
     "text": [
      "Aktuell gibt es noch 10 Streichhölzer.\n",
      "Wieviele Streichhölzer möchtest du nehmen? (1, 2 oder 3)\n"
     ]
    },
    {
     "name": "stdin",
     "output_type": "stream",
     "text": [
      " 3\n"
     ]
    },
    {
     "name": "stdout",
     "output_type": "stream",
     "text": [
      "Aktuell gibt es noch 7 Streichhölzer.\n",
      "Wieviele Streichhölzer möchtest du nehmen? (1, 2 oder 3)\n"
     ]
    },
    {
     "name": "stdin",
     "output_type": "stream",
     "text": [
      " 3\n"
     ]
    },
    {
     "name": "stdout",
     "output_type": "stream",
     "text": [
      "Aktuell gibt es noch 4 Streichhölzer.\n",
      "Wieviele Streichhölzer möchtest du nehmen? (1, 2 oder 3)\n"
     ]
    },
    {
     "name": "stdin",
     "output_type": "stream",
     "text": [
      " 3\n"
     ]
    },
    {
     "name": "stdout",
     "output_type": "stream",
     "text": [
      "Aktuell gibt es noch 1 Streichhölzer.\n",
      "Das Spiel ist zu Ende!\n"
     ]
    }
   ],
   "source": [
    "# Programmierteil 1: Schreibe den Text \"Nimm Streichhölzer Weg Spiel startet\" \n",
    "# und dann \"Wieviele Streichhölzer gibt es?\" auf den Bildschirm\n",
    "print(\"Nimm Streichhölzer Weg Spiel startet!\")\n",
    "print(\"Wieviele Streichhölzer gibt es?\")\n",
    "\n",
    "# Programmierteil 2: Lese einen String mit input() ein und weise ihn einer Variablen mit dem Namen matchesStr zu\n",
    "matchesStr = input()\n",
    "print(\"Es gibt \" + matchesStr + \" Streichhölzer.\")\n",
    "\n",
    "# Programmierteil 3: Konvertiere den Wert der Variable matchesStr in einen Integer und weise diesen Wert der Variable matchesInt zu\n",
    "matchesInt = int(matchesStr)\n",
    "\n",
    "# Programmierteil 5: Erweitere die Funktion mit Namen askPlayer()\n",
    "#     1. \"Wieviele Streichhölzer möchtest du nehmen? (1, 2 oder 3)\" ausgibt (bereits implementiert)\n",
    "#     2. einen String einliest und der Variablen matchesTakenStr zuweist\n",
    "#     3. den Wert der Variablen matchesTakenStr in einen Integer konvertiert und der Variablen matchesTakenInt zuweist\n",
    "#     4. matchesTakenInt zurückgibt\n",
    "# Rufe die Funktion askPlayer ohne Parameter auf und weise das Ergebnis des Aufrufes von askPlayer der Variablen matchesTakenInt zu.\n",
    "def askPlayer():\n",
    "    print(\"Wieviele Streichhölzer möchtest du nehmen? (1, 2 oder 3)\")\n",
    "    matchesTakenStr = input()\n",
    "    matchesTakenInt = int(matchesTakenStr)\n",
    "    return matchesTakenInt\n",
    "\n",
    "# Programmierteil 4: Schreibe eine while-Schleife, die in der Kondition überprüft ob matchesInt größer als 1 ist. \n",
    "# In der while-Schleife  \n",
    "#     1. Ziehe matchesTakenInt von matchesInt ab und weise das Ergebnis matchesInt zu (matchesTakenInt wird im nächsten Teil 'richtig' gesetzt)\n",
    "#     2. Gib dann die aktuelle Anzahl an matchesInt aus, z.B. \"Aktuell gibt es noch 10 Streichhölzer.\"\n",
    "while matchesInt > 1:\n",
    "    matchesTakenInt = askPlayer()\n",
    "    matchesInt = matchesInt - matchesTakenInt\n",
    "    print(\"Aktuell gibt es noch \" + str(matchesInt) + \" Streichhölzer.\")\n",
    "    \n",
    "print(\"Das Spiel ist zu Ende!\")"
   ]
  },
  {
   "cell_type": "code",
   "execution_count": null,
   "metadata": {},
   "outputs": [],
   "source": []
  }
 ],
 "metadata": {
  "kernelspec": {
   "display_name": "Python 3",
   "language": "python",
   "name": "python3"
  },
  "language_info": {
   "codemirror_mode": {
    "name": "ipython",
    "version": 3
   },
   "file_extension": ".py",
   "mimetype": "text/x-python",
   "name": "python",
   "nbconvert_exporter": "python",
   "pygments_lexer": "ipython3",
   "version": "3.8.2"
  }
 },
 "nbformat": 4,
 "nbformat_minor": 4
}
