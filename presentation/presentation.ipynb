{
 "cells": [
  {
   "cell_type": "code",
   "execution_count": 1,
   "metadata": {
    "slideshow": {
     "slide_type": "notes"
    }
   },
   "outputs": [],
   "source": [
    "# create the presentation with pipenv run jupyter nbconvert presentation.ipynb --execute --to slides --post serve --allow-errors"
   ]
  },
  {
   "cell_type": "markdown",
   "metadata": {
    "slideshow": {
     "slide_type": "notes"
    }
   },
   "source": [
    "## Programmieren Lernen mit Python @Digitaltag 2020\n",
    "<div/><img src=\"images/python_logo.png\" alt=\"Python Logo\" style=\"width: 200px;\"/>"
   ]
  },
  {
   "cell_type": "markdown",
   "metadata": {},
   "source": [
    "![](images/cover_slide.svg)"
   ]
  },
  {
   "cell_type": "markdown",
   "metadata": {
    "slideshow": {
     "slide_type": "slide"
    }
   },
   "source": [
    "## Verena Dittmer\n",
    "\n",
    "![](images/me.png)\n",
    "\n",
    "* Abitur Neues Gymnasium Nürnberg\n",
    "* Bachelor in Angewandte Informatik, Alpe-Adria-Universität Klagenfurt\n",
    "* Master in Logic and Computation, Technische Universität Wien\n",
    "* Seit 8 Jahren Software entwickeln\n",
    "    * Java, Python, C++, Lua, ... \n",
    "* Software Engineer und Data Scientist bei [Cloudflight](https://www.youtube.com/watch?v=FFnlyl_9LBI&feature=youtu.be)\n",
    "    * Fokus auf Natural Language Processing"
   ]
  },
  {
   "cell_type": "markdown",
   "metadata": {
    "slideshow": {
     "slide_type": "slide"
    }
   },
   "source": [
    "![](images/cloudflight_slide.svg)"
   ]
  },
  {
   "cell_type": "markdown",
   "metadata": {
    "slideshow": {
     "slide_type": "slide"
    }
   },
   "source": [
    "## Workshop-Ablauf - TODO Link zu Folien\n",
    "* Python-Einführung\n",
    "* Spielerklärung 'Nimm Streichhölzer Weg'\n",
    "* Programmierkonzepte + Live-Demos + Selber programmieren\n",
    "    1. Strings\n",
    "    2. `print`-Ausgabe\n",
    "    2. Kommentare\n",
    "    3. `input`-Eingabe\n",
    "    4. Variablen\n",
    "    5. Integer und Rechnen mit ganzen Zahlen\n",
    "    6. `if`-Konditionen und Booleans\n",
    "    7. `while` und `for`-Schleifen\n",
    "    8. Funktionen\n",
    "* Tipps zum Lernen einer Programmiersprache"
   ]
  },
  {
   "cell_type": "markdown",
   "metadata": {
    "slideshow": {
     "slide_type": "fragment"
    }
   },
   "source": [
    "## Bitte immer Fragen stellen!"
   ]
  },
  {
   "cell_type": "markdown",
   "metadata": {
    "slideshow": {
     "slide_type": "slide"
    }
   },
   "source": [
    "## Bekannte Programmiersprachen\n",
    "\n",
    "![programmiersprachen_cloud](images/programming_languages.png)\n",
    "\n",
    "### ... warum gerade Python?"
   ]
  },
  {
   "cell_type": "markdown",
   "metadata": {
    "slideshow": {
     "slide_type": "slide"
    }
   },
   "source": [
    "## Python\n",
    "\n",
    "* Eine der beliebtesten Programmiersprachen$^1$\n",
    "* Die Sprache für Machine Learning & Data Science \n",
    "    * 2018: 57% aller Befragten gaben an Python regelmäßig zu verwenden$^2$\n",
    "* Einfach zu lernen\n",
    "* Interpretierte Sprache\n",
    "    * Python-Interpreter: Interpretiert den geschriebenen Python Code\n",
    "\n",
    "\n",
    "$^1$ http://pypl.github.io/PYPL.html\n",
    "\n",
    "$^2$ https://www.kaggle.com/paultimothymooney/2018-kaggle-machine-learning-data-science-survey"
   ]
  },
  {
   "cell_type": "markdown",
   "metadata": {
    "slideshow": {
     "slide_type": "slide"
    }
   },
   "source": [
    "## Ziel: 'Nimm Streichhölzer Weg' in Python programmieren\n",
    "\n",
    "### Spielerklärung\n",
    "* Eine gegebene Anzahl an Streichhölzern liegt vor zwei Spielern\n",
    "* Die Spieler können abwechselnd 1-3 Streichhölzer wegnehmen\n",
    "* Der Spieler, der das letzte Streichholz oder die letzten Streichhölzer wegnimmt hat **verloren** \n",
    "\n",
    "[Nimm Streichhölzer Weg](https://www.topster.de/nimm-weg/)\n"
   ]
  },
  {
   "cell_type": "markdown",
   "metadata": {
    "slideshow": {
     "slide_type": "fragment"
    }
   },
   "source": [
    "### Vereinfachungen\n",
    "* Keine grafischen Elemente sondern alles textbasiert\n",
    "* Kein Spiel gegen Computer, sondern gegen lokalen zweiten Spieler\n",
    "* Keine Fehlerbehandlung, z.B. ein Spieler kann auch 4 Streichhölzer wegnehmen\n",
    "* Kein \"hübscher\" Code"
   ]
  },
  {
   "cell_type": "markdown",
   "metadata": {
    "slideshow": {
     "slide_type": "slide"
    }
   },
   "source": [
    "## Strings\n",
    "* = Zeichenketten, d.h. bestehend aus einzelnen Zeichen, z.B. \"Dies ist ein String!!\", 'Dies ist auch ein String.'\n",
    "* Beginnen immer mit einfachen (') oder doppelten Hochkommas (\")"
   ]
  },
  {
   "cell_type": "code",
   "execution_count": 2,
   "metadata": {
    "slideshow": {
     "slide_type": "fragment"
    }
   },
   "outputs": [
    {
     "name": "stdout",
     "output_type": "stream",
     "text": [
      "Dies ist ein String, der ausgegeben wird!\n"
     ]
    }
   ],
   "source": [
    "\"Dies ist alles derselbe String!!\"\n",
    "'Dies ist alles derselbe String!!'\n",
    "'Dies ist alles ' 'derselbe String!!'\n",
    "'Dies ist alles ' + 'derselbe String!!'\n",
    "\n",
    "print(\"Dies ist ein String, der ausgegeben wird!\")"
   ]
  },
  {
   "cell_type": "markdown",
   "metadata": {
    "slideshow": {
     "slide_type": "slide"
    }
   },
   "source": [
    "## `print` zur Ausgabe von Texten\n",
    "\n",
    "* `print( ... )` um Text auf dem Bildschirm auszugeben \n",
    "* `print` ist eigentlich eine **Funktion**, `print( ... )` der Funktionsaufruf wo ein **String** oder anderes Objekt übergeben wird"
   ]
  },
  {
   "cell_type": "code",
   "execution_count": 3,
   "metadata": {
    "slideshow": {
     "slide_type": "fragment"
    }
   },
   "outputs": [
    {
     "name": "stdout",
     "output_type": "stream",
     "text": [
      "Dies ist alles derselbe String!!\n",
      "Dies ist alles derselbe String!!\n",
      "Dies ist alles derselbe String!!\n",
      "Dies ist alles derselbe String!!\n"
     ]
    }
   ],
   "source": [
    "print(\"Dies ist alles derselbe String!!\")\n",
    "print('Dies ist alles derselbe String!!')\n",
    "print('Dies ist alles ' 'derselbe String!!')\n",
    "print('Dies ist alles ' + 'derselbe String!!')"
   ]
  },
  {
   "cell_type": "markdown",
   "metadata": {
    "slideshow": {
     "slide_type": "slide"
    }
   },
   "source": [
    "## Kommentare\n",
    "\n",
    "* Kommentare sind für **Programmierer** gedacht sind (nicht zur Codeausführung!)\n",
    "* Beliebiger Freitext\n",
    "* Zeichen nach einer Raute (#) werden als Kommentar interpretiert, außer innerhalb eines Strings"
   ]
  },
  {
   "cell_type": "code",
   "execution_count": 4,
   "metadata": {
    "slideshow": {
     "slide_type": "fragment"
    }
   },
   "outputs": [
    {
     "name": "stdout",
     "output_type": "stream",
     "text": [
      "String, # hier auch noch String\n"
     ]
    }
   ],
   "source": [
    "# Dies ist ein Kommentar und dieser wird auch nicht auf die Syntax überprüft\n",
    "print(\"String, # hier auch noch String\") # hier ein Kommentar "
   ]
  },
  {
   "cell_type": "code",
   "execution_count": 5,
   "metadata": {
    "slideshow": {
     "slide_type": "fragment"
    }
   },
   "outputs": [
    {
     "ename": "SyntaxError",
     "evalue": "invalid syntax (<ipython-input-5-80c89c78d9cc>, line 2)",
     "output_type": "error",
     "traceback": [
      "\u001b[0;36m  File \u001b[0;32m\"<ipython-input-5-80c89c78d9cc>\"\u001b[0;36m, line \u001b[0;32m2\u001b[0m\n\u001b[0;31m    in der nächsten Zeile fehlt\u001b[0m\n\u001b[0m    ^\u001b[0m\n\u001b[0;31mSyntaxError\u001b[0m\u001b[0;31m:\u001b[0m invalid syntax\n"
     ]
    }
   ],
   "source": [
    "# Erneut ein Kommentar, diesmal gibt es aber einen SyntaxError, da die Raute\n",
    "in der nächsten Zeile fehlt"
   ]
  },
  {
   "cell_type": "markdown",
   "metadata": {
    "slideshow": {
     "slide_type": "slide"
    }
   },
   "source": [
    "## Syntax einer Programmiersprache\n",
    "\n",
    "* **Syntax**: Der Python-Interpreter versteht nur eine gewisse Sprache nach genau definierten Regeln, diese muss **syntaktisch korrekt** sein\n",
    "\n",
    "|Syntax korrekt|Syntax nicht korrekt|\n",
    "|:-------:|:------:|\n",
    "|`print(\"Dies ist ein String\")`|`print(\"Dies ist ein String')`|\n",
    "|`print('Dies ist ein String')`  | `print(Dies ist ein String)` |\n",
    "|`print('Dies ist' 'ein String')`  | `print(\"Dies ist ein String\"`|\n",
    "\n",
    "* Syntax nicht korrekt -> `SyntaxError`"
   ]
  },
  {
   "cell_type": "markdown",
   "metadata": {
    "slideshow": {
     "slide_type": "slide"
    }
   },
   "source": [
    "## Programmierteil 1 \n",
    "\n",
    "* Code: https://mybinder.org/v2/gh/kiqo/learn_programming_with_python/master?filepath=tasks%2Ftask1.ipynb\n",
    "* Schreibe den Text \"Nimm Streichhölzer Weg Spiel startet!\" und dann \"Wieviele Streichhölzer gibt es?\"\n",
    "\n",
    "### Bereits bekannt:\n",
    "```python\n",
    "# Raute für Kommentare\n",
    "print(\"Dies ist ein String\")    # print schreibt Text\n",
    "```"
   ]
  },
  {
   "cell_type": "markdown",
   "metadata": {
    "slideshow": {
     "slide_type": "slide"
    }
   },
   "source": [
    "## `input` zum Einlesen von Benutzereingaben\n",
    "\n",
    "* Mit `input()` oder `input(\"String, der zur Eingabe auffordert\")` kann der Benutzer einen Textinput eingeben\n",
    "* Programm wird solange gestoppt, bis die Enter-Taste gedrückt wird\n",
    "* Liefert immer einen String zurück, d.h. selbst bei Eingabe von \"3\" kommt der String \"3\" und nicht die Zahl (bzw. Integer) 3 zurück"
   ]
  },
  {
   "cell_type": "markdown",
   "metadata": {
    "slideshow": {
     "slide_type": "fragment"
    }
   },
   "source": [
    "```python\n",
    "input()\n",
    "eingabe = input(\"Ihre Eingabe? \")\n",
    "```"
   ]
  },
  {
   "cell_type": "markdown",
   "metadata": {
    "slideshow": {
     "slide_type": "slide"
    }
   },
   "source": [
    "## Variablen\n",
    "\n",
    "* Kann einen **variablen** Wert annehmen, der sich im Laufe des Programms verändern kann\n",
    "* In Python: Hat immer einen **Namen** und einen **Wert**\n",
    "* Bei der **Zuweisung** einer Variablen wird der Variablen ein Wert zugewiesen\n",
    "    * `nameDerVariable = WertDerVariable` \n",
    "    * Variable `nameDerVariable` hat nach dieser Zeile den Wert `WertDerVariable`"
   ]
  },
  {
   "cell_type": "markdown",
   "metadata": {
    "slideshow": {
     "slide_type": "subslide"
    }
   },
   "source": [
    "## Variablen\n",
    "\n",
    "```python\n",
    "nameVariablen = \"Wert der Variablen, hier ein String\"\n",
    "x = \"ein String\"\n",
    "y = x\n",
    "```\n",
    "\n",
    "![VariablenBeispiel](images/variables.png)"
   ]
  },
  {
   "cell_type": "markdown",
   "metadata": {
    "slideshow": {
     "slide_type": "subslide"
    }
   },
   "source": [
    "## Zuweisung der Eingabe an eine Variable\n",
    "\n",
    "* `input()` alleine reicht nicht, um auf die Eingabe erneut zugreifen zu können"
   ]
  },
  {
   "cell_type": "markdown",
   "metadata": {
    "slideshow": {
     "slide_type": "fragment"
    }
   },
   "source": [
    "```python\n",
    "input()\n",
    "x = input()\n",
    "print(x)\n",
    "```"
   ]
  },
  {
   "cell_type": "markdown",
   "metadata": {
    "slideshow": {
     "slide_type": "slide"
    }
   },
   "source": [
    "## Programmierteil 2\n",
    "\n",
    "* Code: https://mybinder.org/v2/gh/kiqo/learn_programming_with_python/master?filepath=tasks%2Ftask2.ipynb\n",
    "* Lese einen String mit `input()` ein und weise ihn einer Variablen mit dem Namen `matchesStr` zu\n",
    "\n",
    "\n",
    "\n",
    "### Bereits bekannt:\n",
    "```python\n",
    "# Raute für Kommentare\n",
    "print(\"Dies ist ein String\")    # print schreibt Text\n",
    "input(\"Ihre Eingabe? \")         # input liest Text\n",
    "x = \"Der Wert einer Variablen\"  # x ist eine Variable\n",
    "```"
   ]
  },
  {
   "cell_type": "markdown",
   "metadata": {
    "slideshow": {
     "slide_type": "slide"
    }
   },
   "source": [
    "## Strings addieren und subtrahieren... \n",
    "\n",
    "* Wir möchten die Anzahl der weggenommenen Streichhölzer von der Anzahl der vorhandenen Streichhölzer **subtrahieren** "
   ]
  },
  {
   "cell_type": "code",
   "execution_count": null,
   "metadata": {
    "slideshow": {
     "slide_type": "fragment"
    }
   },
   "outputs": [],
   "source": [
    "matchesStr = \"13\"\n",
    "matchesTakenStr = \"3\"\n",
    "print(matchesStr + matchesTakenStr)  # \"133\"\n",
    "print(matchesStr - matchesTakenStr)  # TypeError"
   ]
  },
  {
   "cell_type": "markdown",
   "metadata": {
    "slideshow": {
     "slide_type": "fragment"
    }
   },
   "source": [
    "## ... wir brauchen Zahlentypen zum Rechnen!"
   ]
  },
  {
   "cell_type": "markdown",
   "metadata": {
    "slideshow": {
     "slide_type": "slide"
    }
   },
   "source": [
    "## Integerzahlen\n",
    "* Integer ist der **Datentyp** für **ganze Zahlen** z.B. 0, 1, 15000, -3000, ..."
   ]
  },
  {
   "cell_type": "code",
   "execution_count": 6,
   "metadata": {
    "slideshow": {
     "slide_type": "fragment"
    }
   },
   "outputs": [
    {
     "name": "stdout",
     "output_type": "stream",
     "text": [
      "37\n"
     ]
    }
   ],
   "source": [
    "x = \"33\"      # \"33\" ist ein String-Objekt\n",
    "y = 33        # 33 ist ein int-Objekt\n",
    "z = 4 + 33    # mit Integer kann man rechnen!\n",
    "print(str(z)) # 37"
   ]
  },
  {
   "cell_type": "markdown",
   "metadata": {
    "slideshow": {
     "slide_type": "fragment"
    }
   },
   "source": [
    "* Andere **Datentypen**: Strings, float (z.B. 1.3, -4000.5), Booleans (true oder false), Listen, ..."
   ]
  },
  {
   "cell_type": "markdown",
   "metadata": {
    "slideshow": {
     "slide_type": "subslide"
    }
   },
   "source": [
    "## String-int Konvertierung\n",
    "\n",
    "* Mittels `str` und `int` wird von einem Typ in den anderen Typ umgewandelt\n",
    "* `int` Typ wird für Berechnungen benötigt\n",
    "\n",
    "![images/str_int_conversion.png](images/str_int_conversion.png)"
   ]
  },
  {
   "cell_type": "markdown",
   "metadata": {
    "slideshow": {
     "slide_type": "slide"
    }
   },
   "source": [
    "## Rechnen mit Ganzzahlen"
   ]
  },
  {
   "cell_type": "code",
   "execution_count": 7,
   "metadata": {
    "slideshow": {
     "slide_type": "fragment"
    }
   },
   "outputs": [
    {
     "name": "stdout",
     "output_type": "stream",
     "text": [
      "63\n",
      "9\n",
      "9\n",
      "3\n",
      "18\n",
      "2.0\n"
     ]
    }
   ],
   "source": [
    "print(\"6\" + \"3\")   # Vorsicht - Strings werden \"zusammengefügt\"\n",
    "print(str(6 + 3))  # Addition\n",
    "print(6 + 3)       # Addition - in print passiert die str Konvertierung automatisch!\n",
    "print(6 - 3)       # Subtraktion\n",
    "print(6 * 3)       # Multiplikation\n",
    "print(6 / 3)       # Division, Ergebnis ist ein float"
   ]
  },
  {
   "cell_type": "markdown",
   "metadata": {
    "slideshow": {
     "slide_type": "slide"
    }
   },
   "source": [
    "## Programmierteil 3 - [Link](https://mybinder.org/v2/gh/kiqo/learn_programming_with_python/master?filepath=tasks%2Ftask3.ipynb)\n",
    "\n",
    "* Konvertiere den Wert der Variable `matchesStr` in einen Integer und weise diesen Wert der Variable `matchesInt` zu\n",
    "\n",
    "\n",
    "### Bereits bekannt:\n",
    "```python\n",
    "# Raute für Kommentare\n",
    "print(\"Dies ist ein String\")    # print schreibt Text\n",
    "input(\"Ihre Eingabe? \")         # input liest Text\n",
    "x = \"Der Wert einer Variablen\"  # x ist eine Variable\n",
    "y = 12 - 4                      # Subtraktion von zwei Integer-Zahlen\n",
    "z = int(\"12\")                   # String \"12\" wird in Integer 12 konvertiert\n",
    "```"
   ]
  },
  {
   "cell_type": "markdown",
   "metadata": {
    "slideshow": {
     "slide_type": "slide"
    }
   },
   "source": [
    "## `if`-Anweisung\n",
    "* Man möchte Codeteile nur unter bestimmten Umständen ausführen"
   ]
  },
  {
   "cell_type": "code",
   "execution_count": 8,
   "metadata": {
    "slideshow": {
     "slide_type": "fragment"
    }
   },
   "outputs": [
    {
     "name": "stdout",
     "output_type": "stream",
     "text": [
      "Dies ist wahr und wird deswegen ausgeführt\n",
      "Dies ist der else Block\n"
     ]
    }
   ],
   "source": [
    "if True:\n",
    "    print(\"Dies ist wahr und wird deswegen ausgeführt\")\n",
    "\n",
    "if False:\n",
    "    print(\"Dies ist falsch und wird deswegen nicht ausgeführt\")\n",
    "else:\n",
    "    print(\"Dies ist der else Block\")"
   ]
  },
  {
   "cell_type": "markdown",
   "metadata": {
    "slideshow": {
     "slide_type": "subslide"
    }
   },
   "source": [
    "## Booleans und Konditionen\n",
    "* Nach dem `if` folgt eine **Kondition**, die entweder nach `True` (wahr) oder `False` (falsch) evaluiert werden muss\n",
    "* `True` und `False` sind beide Boolesche Werte (vom Datentyp **Boolean**)\n",
    "* Beispiele für Konditionen\n",
    "``` python\n",
    "True\n",
    "False\n",
    "\"String\" == \"St\" + \"ring\"  # evaluiert zu `True`\n",
    "\"33\" == 33                 # evaluiert zu `False` da links ein\n",
    "                           # String aber rechts ein Integer\n",
    "25 + 8 == 33               # evaluiert zu `True`\n",
    "25 < 33                    # evaluiert zu `True`\n",
    "25 > 33                    # evaluiert zu `False`\n",
    "25 <= 25                   # evaluiert zu `True`\n",
    "```"
   ]
  },
  {
   "cell_type": "code",
   "execution_count": 9,
   "metadata": {
    "slideshow": {
     "slide_type": "subslide"
    }
   },
   "outputs": [
    {
     "name": "stdout",
     "output_type": "stream",
     "text": [
      "i ist kleiner 33\n"
     ]
    }
   ],
   "source": [
    "i = 25\n",
    "if i < 33:\n",
    "    print(\"i ist kleiner 33\")\n",
    "else:\n",
    "    print(\"i ist größer oder gleich 33\")"
   ]
  },
  {
   "cell_type": "markdown",
   "metadata": {
    "slideshow": {
     "slide_type": "slide"
    },
    "tags": [
     "while"
    ]
   },
   "source": [
    "## `for` und `while`-Schleifen\n",
    "* Man möchte Code wiederholend ausführen bis eine bestimmte **Kondition** erfüllt ist\n",
    "* Beispiel: Zahlen von 1 bis 3 ausgeben"
   ]
  },
  {
   "cell_type": "code",
   "execution_count": 10,
   "metadata": {
    "slideshow": {
     "slide_type": "fragment"
    }
   },
   "outputs": [
    {
     "name": "stdout",
     "output_type": "stream",
     "text": [
      "1\n",
      "2\n",
      "3\n",
      "1\n",
      "2\n",
      "3\n",
      "1\n",
      "2\n",
      "3\n"
     ]
    }
   ],
   "source": [
    "print(1)\n",
    "print(2)\n",
    "print(3)\n",
    "\n",
    "i = 1\n",
    "while i <= 3:\n",
    "    print(i)\n",
    "    i = i + 1\n",
    "\n",
    "for j in range(1, 4):  # range(1, 4) gibt die Zahlen 1..3 zurück (exklusiv 4)\n",
    "    print(j)"
   ]
  },
  {
   "cell_type": "markdown",
   "metadata": {
    "slideshow": {
     "slide_type": "slide"
    }
   },
   "source": [
    "## Programmierteil 4 - [Link](https://mybinder.org/v2/gh/kiqo/learn_programming_with_python/master?filepath=tasks%2Ftask4.ipynb)\n",
    "* Schreibe eine while-Schleife, die in der Kondition überprüft ob `matchesInt` größer als 1 ist. \n",
    "* In der `while`-Schleife  \n",
    "     1. Ziehe `matchesTakenInt` von `matchesInt` ab und weise das Ergebnis `matchesInt` zu (`matchesTakenInt` wird im nächsten Teil 'richtig' gesetzt)\n",
    "     2. Gib dann die aktuelle Anzahl an `matchesInt` aus, z.B. \"Aktuell gibt es noch 10 Streichhölzer.\"\n",
    "\n",
    "\n",
    "### Bereits bekannt:\n",
    "```python\n",
    "# Raute für Kommentare\n",
    "print(\"Dies ist ein String\")    # print schreibt Text\n",
    "input(\"Ihre Eingabe? \")         # input liest Text\n",
    "x = \"Der Wert einer Variablen\"  # x ist eine Variable\n",
    "y = 12 - 4                      # Subtraktion von zwei Integer-Zahlen\n",
    "z = int(\"12\")                   # String \"12\" wird in Integer 12 konvertiert\n",
    "if z > 11:                      # if-Bedingung, die eine Kondition überprüft\n",
    "    print(\"z ist größer 11\")\n",
    "while z > 3:                    # while-Schleife, die läuft solange \n",
    "    print(z)                    # die Kondition wahr ist\n",
    "    z = z - 1\n",
    "```"
   ]
  },
  {
   "cell_type": "markdown",
   "metadata": {
    "slideshow": {
     "slide_type": "slide"
    }
   },
   "source": [
    "## Funktionen\n",
    "* Muss eine Codesequenz mehr als einmal ausgeführt werden, kann man diese in eine **Funktion** auslagern\n",
    "* Funktionen können beliebig häufig aufgerufen werden\n",
    "* Sie **können**, aber müssen nicht, **Parameter** und **Rückgabewerte** haben"
   ]
  },
  {
   "cell_type": "code",
   "execution_count": 11,
   "metadata": {
    "slideshow": {
     "slide_type": "fragment"
    }
   },
   "outputs": [
    {
     "name": "stdout",
     "output_type": "stream",
     "text": [
      "Kein Parameter, kein Rückgabewert\n"
     ]
    },
    {
     "ename": "TypeError",
     "evalue": "funktionsName() takes 0 positional arguments but 1 was given",
     "output_type": "error",
     "traceback": [
      "\u001b[0;31m---------------------------------------------------------------------------\u001b[0m",
      "\u001b[0;31mTypeError\u001b[0m                                 Traceback (most recent call last)",
      "\u001b[0;32m<ipython-input-11-3dcf99380a5d>\u001b[0m in \u001b[0;36m<module>\u001b[0;34m\u001b[0m\n\u001b[1;32m      3\u001b[0m \u001b[0;34m\u001b[0m\u001b[0m\n\u001b[1;32m      4\u001b[0m \u001b[0mfunktionsName\u001b[0m\u001b[0;34m(\u001b[0m\u001b[0;34m)\u001b[0m\u001b[0;34m\u001b[0m\u001b[0;34m\u001b[0m\u001b[0m\n\u001b[0;32m----> 5\u001b[0;31m \u001b[0mfunktionsName\u001b[0m\u001b[0;34m(\u001b[0m\u001b[0;34m\"Hallo\"\u001b[0m\u001b[0;34m)\u001b[0m  \u001b[0;31m# Wirft einen Fehler, da der Funktion funktionsName kein Parameter übergeben werden darf\u001b[0m\u001b[0;34m\u001b[0m\u001b[0;34m\u001b[0m\u001b[0m\n\u001b[0m",
      "\u001b[0;31mTypeError\u001b[0m: funktionsName() takes 0 positional arguments but 1 was given"
     ]
    }
   ],
   "source": [
    "def funktionsName():\n",
    "    print(\"Kein Parameter, kein Rückgabewert\")\n",
    "    \n",
    "funktionsName()\n",
    "funktionsName(\"Hallo\")  # Wirft einen Fehler, da der Funktion funktionsName kein Parameter übergeben werden darf"
   ]
  },
  {
   "cell_type": "code",
   "execution_count": null,
   "metadata": {
    "slideshow": {
     "slide_type": "subslide"
    }
   },
   "outputs": [],
   "source": [
    "# Eine Funktion mit Namen \"hi\" definiert\n",
    "def hi():\n",
    "    print(\"Hi!\")\n",
    "    print(\"Huhu!\")\n",
    "\n",
    "# Die Funktion \"hi\" wird zweimal aufgerufen\n",
    "hi()\n",
    "hi()"
   ]
  },
  {
   "cell_type": "code",
   "execution_count": null,
   "metadata": {
    "slideshow": {
     "slide_type": "fragment"
    }
   },
   "outputs": [],
   "source": [
    "# Eine Funktion \"addiere\" mit zwei Parametern x und y wird definiert\n",
    "# Diese hat als Rückgabewert (der Wert nach return) x + y\n",
    "def addiere(x, y):\n",
    "    print(\"x hat den Wert \" + str(x))\n",
    "    print(\"y hat den Wert \" + str(y))\n",
    "    return x + y\n",
    "\n",
    "print(addiere(1,3))"
   ]
  },
  {
   "cell_type": "code",
   "execution_count": null,
   "metadata": {
    "slideshow": {
     "slide_type": "fragment"
    }
   },
   "outputs": [],
   "source": [
    "summe = addiere(2,5)\n",
    "print(summe)"
   ]
  },
  {
   "cell_type": "markdown",
   "metadata": {
    "slideshow": {
     "slide_type": "slide"
    }
   },
   "source": [
    "## Programmierteil 5 - [Link](https://mybinder.org/v2/gh/kiqo/learn_programming_with_python/master?filepath=tasks%2Ftask5.ipynb)\n",
    "\n",
    "* Erweitere die Funktion askPlayer(), in der ein Input eingelesen wird, in ein Integer konvertiert und dann zurückgegeben wird\n",
    "* askPlayer wird ohne Parameter aufgerufen und der Variablen matchesTakenInt zugewiesen (bereits implementiert)\n",
    "\n",
    "### Bereits bekannt:\n",
    "```python\n",
    "# Raute für Kommentare\n",
    "print(\"Dies ist ein String\")    # print schreibt Text\n",
    "input(\"Ihre Eingabe? \")         # input liest Text\n",
    "x = \"Der Wert einer Variablen\"  # x ist eine Variable\n",
    "y = 12 - 4                      # Subtraktion von zwei Integer-Zahlen\n",
    "z = int(\"12\")                   # String \"12\" wird in Integer 12 konvertiert\n",
    "if z > 11:                      # if-Bedingung, die eine Kondition überprüft\n",
    "    print(\"z ist größer 11\")\n",
    "while z > 3:                    # while-Schleife, die läuft solange \n",
    "    print(z)                    # die Kondition wahr ist\n",
    "    z = z - 1\n",
    "def addiere(x, y):              # Funktion addiere mit den Parametern x und y\n",
    "    return x + y                # x + y ist der Rückgabewert\n",
    "z = addiere(4, 3)               # Funktionsaufruf und Zuweisen des \n",
    "                                # Rückgabewerts an z\n",
    "```"
   ]
  },
  {
   "cell_type": "markdown",
   "metadata": {
    "slideshow": {
     "slide_type": "slide"
    }
   },
   "source": [
    "## Fertiges Spiel\n",
    "\n",
    "* Lösung: https://mybinder.org/v2/gh/kiqo/learn_programming_with_python/master?filepath=tasks%2Fsolution_basic.ipynb\n",
    "* Lösung erweitert: https://mybinder.org/v2/gh/kiqo/learn_programming_with_python/master?filepath=tasks%2Fsolution_advances.ipynb"
   ]
  },
  {
   "cell_type": "markdown",
   "metadata": {
    "slideshow": {
     "slide_type": "fragment"
    }
   },
   "source": [
    "## ... Aber wie mache ich daraus jetzt ein Python-Programm?"
   ]
  },
  {
   "cell_type": "markdown",
   "metadata": {
    "slideshow": {
     "slide_type": "slide"
    }
   },
   "source": [
    "## Tipps um Python zu lernen (oder eine andere Programmiersprache)\n",
    "\n",
    "* Tutorials oder Onlinekurse\n",
    "    * [https://www.python-kurs.eu](https://www.python-kurs.eu)\n",
    "    * https://docs.python.org/3/tutorial/\n",
    "    * Udemy, edX, ..."
   ]
  },
  {
   "cell_type": "markdown",
   "metadata": {
    "slideshow": {
     "slide_type": "fragment"
    }
   },
   "source": [
    "* Hobby-Projekte\n",
    "    * Machine Learning / Deep Learning: Bilder klassifizieren\n",
    "    * Webcrawler"
   ]
  },
  {
   "cell_type": "markdown",
   "metadata": {
    "slideshow": {
     "slide_type": "fragment"
    }
   },
   "source": [
    "* Coding-Challenges\n",
    "    * https://www.codewars.com/"
   ]
  },
  {
   "cell_type": "markdown",
   "metadata": {
    "slideshow": {
     "slide_type": "slide"
    }
   },
   "source": [
    "## Offene Fragen <img src=\"images/question_mark.png\" alt=\"Drawing\" style=\"width: 50px;\"/>"
   ]
  },
  {
   "cell_type": "code",
   "execution_count": 12,
   "metadata": {
    "slideshow": {
     "slide_type": "fragment"
    }
   },
   "outputs": [
    {
     "name": "stdout",
     "output_type": "stream",
     "text": [
      "Danke fürs Mitmachen! :)\n"
     ]
    }
   ],
   "source": [
    "print(\"Danke fürs Mitmachen! :)\")"
   ]
  }
 ],
 "metadata": {
  "kernelspec": {
   "display_name": "Python 3",
   "language": "python",
   "name": "python3"
  },
  "language_info": {
   "codemirror_mode": {
    "name": "ipython",
    "version": 3
   },
   "file_extension": ".py",
   "mimetype": "text/x-python",
   "name": "python",
   "nbconvert_exporter": "python",
   "pygments_lexer": "ipython3",
   "version": "3.8.2"
  }
 },
 "nbformat": 4,
 "nbformat_minor": 4
}
